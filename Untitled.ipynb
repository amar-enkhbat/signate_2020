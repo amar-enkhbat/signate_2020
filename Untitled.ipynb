{
 "cells": [
  {
   "cell_type": "code",
   "execution_count": 25,
   "metadata": {},
   "outputs": [
    {
     "name": "stderr",
     "output_type": "stream",
     "text": [
      "C:\\Users\\samuw\\anaconda3\\lib\\site-packages\\ipykernel_launcher.py:3: FutureWarning: Passing a negative integer is deprecated in version 1.0 and will not be supported in future version. Instead, use None to not limit the column width.\n",
      "  This is separate from the ipykernel package so we can avoid doing imports until\n"
     ]
    }
   ],
   "source": [
    "import pandas as pd\n",
    "import matplotlib.pyplot as plt\n",
    "pd.set_option('display.max_colwidth', -1)"
   ]
  },
  {
   "cell_type": "code",
   "execution_count": 2,
   "metadata": {},
   "outputs": [],
   "source": [
    "train = pd.read_csv(\"./data/train.csv\")\n",
    "test = pd.read_csv(\"./data/test.csv\")\n",
    "submit = pd.read_csv(\"./data/submit_sample.csv\")"
   ]
  },
  {
   "cell_type": "code",
   "execution_count": 3,
   "metadata": {},
   "outputs": [
    {
     "data": {
      "text/html": [
       "<div>\n",
       "<style scoped>\n",
       "    .dataframe tbody tr th:only-of-type {\n",
       "        vertical-align: middle;\n",
       "    }\n",
       "\n",
       "    .dataframe tbody tr th {\n",
       "        vertical-align: top;\n",
       "    }\n",
       "\n",
       "    .dataframe thead th {\n",
       "        text-align: right;\n",
       "    }\n",
       "</style>\n",
       "<table border=\"1\" class=\"dataframe\">\n",
       "  <thead>\n",
       "    <tr style=\"text-align: right;\">\n",
       "      <th></th>\n",
       "      <th>id</th>\n",
       "      <th>description</th>\n",
       "      <th>jobflag</th>\n",
       "    </tr>\n",
       "  </thead>\n",
       "  <tbody>\n",
       "    <tr>\n",
       "      <th>0</th>\n",
       "      <td>0</td>\n",
       "      <td>Executes and writes portions of testing plans, protocols, and documentation for assigned portion of application; identifies and debugs issues with code and suggests changes or improvements.</td>\n",
       "      <td>2</td>\n",
       "    </tr>\n",
       "    <tr>\n",
       "      <th>1</th>\n",
       "      <td>1</td>\n",
       "      <td>Maintain Network Performance by assisting with configurations and connections</td>\n",
       "      <td>3</td>\n",
       "    </tr>\n",
       "    <tr>\n",
       "      <th>2</th>\n",
       "      <td>2</td>\n",
       "      <td>Supports the regional compliance manager with day-to-day compliance support to assist the business and other stakeholders.</td>\n",
       "      <td>4</td>\n",
       "    </tr>\n",
       "    <tr>\n",
       "      <th>3</th>\n",
       "      <td>3</td>\n",
       "      <td>Keep up to date with local and national business and economic issues</td>\n",
       "      <td>1</td>\n",
       "    </tr>\n",
       "    <tr>\n",
       "      <th>4</th>\n",
       "      <td>4</td>\n",
       "      <td>Assist with Service Organization Control (SOC) examinations</td>\n",
       "      <td>4</td>\n",
       "    </tr>\n",
       "  </tbody>\n",
       "</table>\n",
       "</div>"
      ],
      "text/plain": [
       "   id  \\\n",
       "0  0    \n",
       "1  1    \n",
       "2  2    \n",
       "3  3    \n",
       "4  4    \n",
       "\n",
       "                                                                                                                                                                                     description  \\\n",
       "0  Executes and writes portions of testing plans, protocols, and documentation for assigned portion of application; identifies and debugs issues with code and suggests changes or improvements.   \n",
       "1  Maintain Network Performance by assisting with configurations and connections                                                                                                                   \n",
       "2  Supports the regional compliance manager with day-to-day compliance support to assist the business and other stakeholders.                                                                      \n",
       "3  Keep up to date with local and national business and economic issues                                                                                                                            \n",
       "4  Assist with Service Organization Control (SOC) examinations                                                                                                                                     \n",
       "\n",
       "   jobflag  \n",
       "0  2        \n",
       "1  3        \n",
       "2  4        \n",
       "3  1        \n",
       "4  4        "
      ]
     },
     "execution_count": 3,
     "metadata": {},
     "output_type": "execute_result"
    }
   ],
   "source": [
    "train.head()"
   ]
  },
  {
   "cell_type": "code",
   "execution_count": 4,
   "metadata": {},
   "outputs": [
    {
     "data": {
      "text/html": [
       "<div>\n",
       "<style scoped>\n",
       "    .dataframe tbody tr th:only-of-type {\n",
       "        vertical-align: middle;\n",
       "    }\n",
       "\n",
       "    .dataframe tbody tr th {\n",
       "        vertical-align: top;\n",
       "    }\n",
       "\n",
       "    .dataframe thead th {\n",
       "        text-align: right;\n",
       "    }\n",
       "</style>\n",
       "<table border=\"1\" class=\"dataframe\">\n",
       "  <thead>\n",
       "    <tr style=\"text-align: right;\">\n",
       "      <th></th>\n",
       "      <th>id</th>\n",
       "      <th>description</th>\n",
       "    </tr>\n",
       "  </thead>\n",
       "  <tbody>\n",
       "    <tr>\n",
       "      <th>0</th>\n",
       "      <td>2931</td>\n",
       "      <td>Work with the implementation teams</td>\n",
       "    </tr>\n",
       "    <tr>\n",
       "      <th>1</th>\n",
       "      <td>2932</td>\n",
       "      <td>Set technology direction, strategy, policies, and guidelines for technology activities such as Software Defined Network, 10G/25G, Routing/Switching, IPv6, Next Gen Branch Network, &amp; Network Orchestration</td>\n",
       "    </tr>\n",
       "    <tr>\n",
       "      <th>2</th>\n",
       "      <td>2933</td>\n",
       "      <td>Experience with Orchestration and Automation products</td>\n",
       "    </tr>\n",
       "    <tr>\n",
       "      <th>3</th>\n",
       "      <td>2934</td>\n",
       "      <td>Apply your expertise in quantitative analysis, data mining, and the presentation of data to see beyond the numbers and understand how our users interact with both our consumer and business products</td>\n",
       "    </tr>\n",
       "    <tr>\n",
       "      <th>4</th>\n",
       "      <td>2935</td>\n",
       "      <td>Provide regular maintenance for knowledge retention and management sites.</td>\n",
       "    </tr>\n",
       "  </tbody>\n",
       "</table>\n",
       "</div>"
      ],
      "text/plain": [
       "     id  \\\n",
       "0  2931   \n",
       "1  2932   \n",
       "2  2933   \n",
       "3  2934   \n",
       "4  2935   \n",
       "\n",
       "                                                                                                                                                                                                   description  \n",
       "0  Work with the implementation teams                                                                                                                                                                           \n",
       "1  Set technology direction, strategy, policies, and guidelines for technology activities such as Software Defined Network, 10G/25G, Routing/Switching, IPv6, Next Gen Branch Network, & Network Orchestration  \n",
       "2  Experience with Orchestration and Automation products                                                                                                                                                        \n",
       "3  Apply your expertise in quantitative analysis, data mining, and the presentation of data to see beyond the numbers and understand how our users interact with both our consumer and business products        \n",
       "4  Provide regular maintenance for knowledge retention and management sites.                                                                                                                                    "
      ]
     },
     "execution_count": 4,
     "metadata": {},
     "output_type": "execute_result"
    }
   ],
   "source": [
    "test.head()"
   ]
  },
  {
   "cell_type": "code",
   "execution_count": 5,
   "metadata": {},
   "outputs": [
    {
     "data": {
      "text/html": [
       "<div>\n",
       "<style scoped>\n",
       "    .dataframe tbody tr th:only-of-type {\n",
       "        vertical-align: middle;\n",
       "    }\n",
       "\n",
       "    .dataframe tbody tr th {\n",
       "        vertical-align: top;\n",
       "    }\n",
       "\n",
       "    .dataframe thead th {\n",
       "        text-align: right;\n",
       "    }\n",
       "</style>\n",
       "<table border=\"1\" class=\"dataframe\">\n",
       "  <thead>\n",
       "    <tr style=\"text-align: right;\">\n",
       "      <th></th>\n",
       "      <th>2931</th>\n",
       "      <th>3</th>\n",
       "    </tr>\n",
       "  </thead>\n",
       "  <tbody>\n",
       "    <tr>\n",
       "      <th>0</th>\n",
       "      <td>2932</td>\n",
       "      <td>3</td>\n",
       "    </tr>\n",
       "    <tr>\n",
       "      <th>1</th>\n",
       "      <td>2933</td>\n",
       "      <td>3</td>\n",
       "    </tr>\n",
       "    <tr>\n",
       "      <th>2</th>\n",
       "      <td>2934</td>\n",
       "      <td>1</td>\n",
       "    </tr>\n",
       "    <tr>\n",
       "      <th>3</th>\n",
       "      <td>2935</td>\n",
       "      <td>3</td>\n",
       "    </tr>\n",
       "    <tr>\n",
       "      <th>4</th>\n",
       "      <td>2936</td>\n",
       "      <td>2</td>\n",
       "    </tr>\n",
       "  </tbody>\n",
       "</table>\n",
       "</div>"
      ],
      "text/plain": [
       "   2931  3\n",
       "0  2932  3\n",
       "1  2933  3\n",
       "2  2934  1\n",
       "3  2935  3\n",
       "4  2936  2"
      ]
     },
     "execution_count": 5,
     "metadata": {},
     "output_type": "execute_result"
    }
   ],
   "source": [
    "submit.head()"
   ]
  },
  {
   "cell_type": "code",
   "execution_count": 6,
   "metadata": {},
   "outputs": [],
   "source": [
    "jobflag_dic = {1: \"Data Scientist\", 2: \"ML Engineer\", 3: \"Software Engineer\", 4: \"Consultant\"}"
   ]
  },
  {
   "cell_type": "code",
   "execution_count": 7,
   "metadata": {},
   "outputs": [],
   "source": [
    "all_data = pd.concat([train, test])\n",
    "all_data[\"jobflag_full\"] = all_data[\"jobflag\"].map(jobflag_dic)\n",
    "all_data = all_data.set_index(\"id\")"
   ]
  },
  {
   "cell_type": "code",
   "execution_count": 8,
   "metadata": {},
   "outputs": [
    {
     "data": {
      "text/html": [
       "<div>\n",
       "<style scoped>\n",
       "    .dataframe tbody tr th:only-of-type {\n",
       "        vertical-align: middle;\n",
       "    }\n",
       "\n",
       "    .dataframe tbody tr th {\n",
       "        vertical-align: top;\n",
       "    }\n",
       "\n",
       "    .dataframe thead th {\n",
       "        text-align: right;\n",
       "    }\n",
       "</style>\n",
       "<table border=\"1\" class=\"dataframe\">\n",
       "  <thead>\n",
       "    <tr style=\"text-align: right;\">\n",
       "      <th></th>\n",
       "      <th>jobflag</th>\n",
       "    </tr>\n",
       "  </thead>\n",
       "  <tbody>\n",
       "    <tr>\n",
       "      <th>count</th>\n",
       "      <td>2931.000000</td>\n",
       "    </tr>\n",
       "    <tr>\n",
       "      <th>mean</th>\n",
       "      <td>2.654384</td>\n",
       "    </tr>\n",
       "    <tr>\n",
       "      <th>std</th>\n",
       "      <td>1.024760</td>\n",
       "    </tr>\n",
       "    <tr>\n",
       "      <th>min</th>\n",
       "      <td>1.000000</td>\n",
       "    </tr>\n",
       "    <tr>\n",
       "      <th>25%</th>\n",
       "      <td>2.000000</td>\n",
       "    </tr>\n",
       "    <tr>\n",
       "      <th>50%</th>\n",
       "      <td>3.000000</td>\n",
       "    </tr>\n",
       "    <tr>\n",
       "      <th>75%</th>\n",
       "      <td>3.000000</td>\n",
       "    </tr>\n",
       "    <tr>\n",
       "      <th>max</th>\n",
       "      <td>4.000000</td>\n",
       "    </tr>\n",
       "  </tbody>\n",
       "</table>\n",
       "</div>"
      ],
      "text/plain": [
       "           jobflag\n",
       "count  2931.000000\n",
       "mean   2.654384   \n",
       "std    1.024760   \n",
       "min    1.000000   \n",
       "25%    2.000000   \n",
       "50%    3.000000   \n",
       "75%    3.000000   \n",
       "max    4.000000   "
      ]
     },
     "execution_count": 8,
     "metadata": {},
     "output_type": "execute_result"
    }
   ],
   "source": [
    "all_data.describe()"
   ]
  },
  {
   "cell_type": "code",
   "execution_count": 9,
   "metadata": {},
   "outputs": [],
   "source": [
    "desc = all_data[\"description\"]"
   ]
  },
  {
   "cell_type": "code",
   "execution_count": 10,
   "metadata": {},
   "outputs": [
    {
     "data": {
      "text/plain": [
       "<matplotlib.axes._subplots.AxesSubplot at 0x228d3fa1c48>"
      ]
     },
     "execution_count": 10,
     "metadata": {},
     "output_type": "execute_result"
    },
    {
     "data": {
      "image/png": "[encoded data removed]",
      "text/plain": [
       "<Figure size 432x288 with 1 Axes>"
      ]
     },
     "metadata": {
      "needs_background": "light"
     },
     "output_type": "display_data"
    }
   ],
   "source": [
    "desc_len = desc.str.len()\n",
    "desc_len.hist(bins=100)"
   ]
  },
  {
   "cell_type": "code",
   "execution_count": 11,
   "metadata": {},
   "outputs": [],
   "source": [
    "max_len_id = desc_len.argmax()\n",
    "min_len_id = desc_len.argmin()"
   ]
  },
  {
   "cell_type": "code",
   "execution_count": 12,
   "metadata": {},
   "outputs": [
    {
     "data": {
      "text/plain": [
       "'Work with technology and business stakeholders across different business lines or functions to understand their front to back business processes & data architectures, identify inefficiencies and opportunities for automation, apply process engineering & automation methodologies to achieve Business Transformation objectives, Lead the evaluation, design, implementation, and management of innovative emerging digital technologies like Process Mining, Task Mining, Business Process Management & Optimization, Robotic Process Automation, Perform business process analysis using process mining tools to create process maps, identify process variants & bottlenecks, and come up with meaningful insights about process, Create data models, customer-specific dashboards and analysis to enable data-driven process impact assessment and recommendations for process optimization through use of enterprise modeling capabilities including but not limited to Process Mining, Leverage strong technical focus and demonstrable experience of architecting technology solutions along with deep business knowledge to realize tangible business benefits through adopting the data strategy and architecture principles, Lead Value Stream Mapping, Business Process Improvement & value creation workshops with stakeholders to understand current state business processes, business needs & challenges and translate them into process mining and transformation plans, Create metrics & KPIs to measure and monitor current process performance as well as ongoing improvements, Build business cases and ROI calculations, leveraging industry benchmarks and best practices'"
      ]
     },
     "execution_count": 12,
     "metadata": {},
     "output_type": "execute_result"
    }
   ],
   "source": [
    "desc.iloc[max_len_id]"
   ]
  },
  {
   "cell_type": "code",
   "execution_count": 13,
   "metadata": {},
   "outputs": [
    {
     "data": {
      "text/plain": [
       "'Consult around our product'"
      ]
     },
     "execution_count": 13,
     "metadata": {},
     "output_type": "execute_result"
    }
   ],
   "source": [
    "desc.iloc[min_len_id]"
   ]
  },
  {
   "cell_type": "code",
   "execution_count": 14,
   "metadata": {},
   "outputs": [
    {
     "data": {
      "text/plain": [
       "Int64Index([9, 70, 193, 603, 662, 1837, 3065, 3428, 3911, 4140, 4403, 4437,\n",
       "            4460, 4567],\n",
       "           dtype='int64', name='id')"
      ]
     },
     "execution_count": 14,
     "metadata": {},
     "output_type": "execute_result"
    }
   ],
   "source": [
    "desc[desc_len > 400].index"
   ]
  },
  {
   "cell_type": "code",
   "execution_count": 15,
   "metadata": {},
   "outputs": [
    {
     "data": {
      "text/plain": [
       "id\n",
       "0       False\n",
       "1       False\n",
       "2       False\n",
       "3       False\n",
       "4       False\n",
       "        ...  \n",
       "4669    False\n",
       "4670    False\n",
       "4671    False\n",
       "4672    False\n",
       "4673    False\n",
       "Name: description, Length: 4674, dtype: bool"
      ]
     },
     "execution_count": 15,
     "metadata": {},
     "output_type": "execute_result"
    }
   ],
   "source": [
    "desc_len > 400"
   ]
  },
  {
   "cell_type": "code",
   "execution_count": 18,
   "metadata": {},
   "outputs": [
    {
     "data": {
      "text/html": [
       "<div>\n",
       "<style scoped>\n",
       "    .dataframe tbody tr th:only-of-type {\n",
       "        vertical-align: middle;\n",
       "    }\n",
       "\n",
       "    .dataframe tbody tr th {\n",
       "        vertical-align: top;\n",
       "    }\n",
       "\n",
       "    .dataframe thead th {\n",
       "        text-align: right;\n",
       "    }\n",
       "</style>\n",
       "<table border=\"1\" class=\"dataframe\">\n",
       "  <thead>\n",
       "    <tr style=\"text-align: right;\">\n",
       "      <th></th>\n",
       "      <th>description</th>\n",
       "      <th>jobflag</th>\n",
       "      <th>jobflag_full</th>\n",
       "    </tr>\n",
       "    <tr>\n",
       "      <th>id</th>\n",
       "      <th></th>\n",
       "      <th></th>\n",
       "      <th></th>\n",
       "    </tr>\n",
       "  </thead>\n",
       "  <tbody>\n",
       "    <tr>\n",
       "      <th>9</th>\n",
       "      <td>Designs, develops, documents, tests and debugs application software. Conducts analysis and collaborates with subject matter experts in the planning, design, development, and utilization of electronic data processing systems for information storage, processing, presentation, manipulation, display, or reporting.  Act as Scrum-of-Scrum Master for 2-3 teams to track cross-team dependencies and resolve barriers  Facilitate Defect Triage meetings and manage the Issue Analysis process  Conduct key formal peer reviews, collect key metrics to facilitate a learning organization  Ensure Definition-of-Ready and Definition-of-Done criteria being met  Facilitate common software requirements analysis across multiple projects  Assist Chief Software Engineer and Technical Program Managers with overall continuous technical process improvements</td>\n",
       "      <td>3.0</td>\n",
       "      <td>Software Engineer</td>\n",
       "    </tr>\n",
       "    <tr>\n",
       "      <th>70</th>\n",
       "      <td>Work with the laboratory staff, GxP Systems team and project management on study start up activities by providing user requirements for building the test methods in LIMS and development of data transfer tools. Develops specifications for standard edit checks of data and supports performance of acceptance testing . Work with Data Management, GxP systems and Project Management teams to facilitate preparation of data transfer agreements, maintain project timelines, drive project completion, escalate issues as appropriate and maintain study data transfer deadlines.</td>\n",
       "      <td>1.0</td>\n",
       "      <td>Data Scientist</td>\n",
       "    </tr>\n",
       "    <tr>\n",
       "      <th>193</th>\n",
       "      <td>Engage in customer and/or prospect management activities. Drives proactive sales conversations through outside interactions at non-PNC locations with a defined sales process including, identifying and independently acting upon sales opportunities to build a strong pipeline of appointments to meet assigned sales goals. Leverages ecosystem partnerships as well as community centers of influence to acquire, expand and retain relationships.</td>\n",
       "      <td>4.0</td>\n",
       "      <td>Consultant</td>\n",
       "    </tr>\n",
       "    <tr>\n",
       "      <th>603</th>\n",
       "      <td>Facilitate Defect Triage meetings and manage the Issue Analysis process  Conduct key formal peer reviews, collect key metrics to facilitate a learning organization  Ensure Definition-of-Ready and Definition-of-Done criteria being met  Facilitate common software requirements analysis across multiple projects  Assist Chief Software Engineer and Technical Program Managers with overall continuous technical process improvements</td>\n",
       "      <td>3.0</td>\n",
       "      <td>Software Engineer</td>\n",
       "    </tr>\n",
       "    <tr>\n",
       "      <th>662</th>\n",
       "      <td>Actively develops and maintains job knowledge as a subject matter expert via review of the medical literature, attendance at professional meetings and/or other educational venues. Applies significant clinical experience and subject matter expertise towards evaluation and judgment of complex evidence as it relates to clinical decision support needs. Actively develops and maintains clinical expertise with the express purpose of translating this expertise into improving or creating drug content. Continually develops and refines writing and database skills</td>\n",
       "      <td>4.0</td>\n",
       "      <td>Consultant</td>\n",
       "    </tr>\n",
       "    <tr>\n",
       "      <th>1837</th>\n",
       "      <td>Must understand DQs business practices and the applications/systems that support them Prepare documentation using tools such as Visio, Word and Excel Other duties as assigned Mentor, Create Standards and Implement Process Improvements Mentor less experienced members of the Software Quality Assurance team Suggest, define, and implement new process and testing standards for the team Act as a resource to business stakeholders in their test plan and case development</td>\n",
       "      <td>3.0</td>\n",
       "      <td>Software Engineer</td>\n",
       "    </tr>\n",
       "    <tr>\n",
       "      <th>3065</th>\n",
       "      <td>The Program Agile Coach is responsible for mentoring team agile coaches, advising managers and developing/enhancing agile maturity levels of teams. Program Agile Coach is also responsible for training agile teams and leaders on agile principles &amp; processes. The Program Agile Coach will be Subject Matter Expert (SME) on agile and scaled agile development methods and processes as well as an experienced IT leader.</td>\n",
       "      <td>NaN</td>\n",
       "      <td>NaN</td>\n",
       "    </tr>\n",
       "    <tr>\n",
       "      <th>3428</th>\n",
       "      <td>Leading DevSecOps-oriented activities in support of agile-based Continuous Development / Continuous Integration (CI/CD). This includes maintaining short and frequent development cycles, integrating security measures with minimal disruption to operations, employing technologies like containers and microservices, fostering close collaboration between teams, and using a framework that promotes automation</td>\n",
       "      <td>NaN</td>\n",
       "      <td>NaN</td>\n",
       "    </tr>\n",
       "    <tr>\n",
       "      <th>3911</th>\n",
       "      <td>Work with technology and business stakeholders across different business lines or functions to understand their front to back business processes &amp; data architectures, identify inefficiencies and opportunities for automation, apply process engineering &amp; automation methodologies to achieve Business Transformation objectives, Lead the evaluation, design, implementation, and management of innovative emerging digital technologies like Process Mining, Task Mining, Business Process Management &amp; Optimization, Robotic Process Automation, Perform business process analysis using process mining tools to create process maps, identify process variants &amp; bottlenecks, and come up with meaningful insights about process, Create data models, customer-specific dashboards and analysis to enable data-driven process impact assessment and recommendations for process optimization through use of enterprise modeling capabilities including but not limited to Process Mining, Leverage strong technical focus and demonstrable experience of architecting technology solutions along with deep business knowledge to realize tangible business benefits through adopting the data strategy and architecture principles, Lead Value Stream Mapping, Business Process Improvement &amp; value creation workshops with stakeholders to understand current state business processes, business needs &amp; challenges and translate them into process mining and transformation plans, Create metrics &amp; KPIs to measure and monitor current process performance as well as ongoing improvements, Build business cases and ROI calculations, leveraging industry benchmarks and best practices</td>\n",
       "      <td>NaN</td>\n",
       "      <td>NaN</td>\n",
       "    </tr>\n",
       "    <tr>\n",
       "      <th>4140</th>\n",
       "      <td>Candidates are to create and maintain Web applications, deploy application builds to non-production and production environments, interact with business and dev lead for clarifications, design review, interact with stakeholders to identify integration points and advance a code development strategy, follow the coding standard, best practices and adhere to the release process, write unit tests for the feature being developed, participate in code review process, provide regular status updates, support the applications during official support hours.</td>\n",
       "      <td>NaN</td>\n",
       "      <td>NaN</td>\n",
       "    </tr>\n",
       "    <tr>\n",
       "      <th>4403</th>\n",
       "      <td>Appropriately assess risk when business decisions are made, demonstrating particular consideration for the firm's reputation and safeguarding our company, its clients and assets, by driving compliance with applicable laws, rules and regulations, adhering to Policy, applying sound ethical judgment regarding personal behavior, conduct and business practices, and escalating, managing and reporting control issues with transparency.</td>\n",
       "      <td>NaN</td>\n",
       "      <td>NaN</td>\n",
       "    </tr>\n",
       "    <tr>\n",
       "      <th>4437</th>\n",
       "      <td>Key Responsibilities: Work with Client, Accenture, and Teaming Partner team members and executives on and across the project team |Plan and execute all required process steps as defined in Accenture/Client methodologies | Ability to work with business to gather and document requirements using agile methods | Analyze, design, test plan/execute, and coordinate defect resolution for analytic data models to align with business requirements</td>\n",
       "      <td>NaN</td>\n",
       "      <td>NaN</td>\n",
       "    </tr>\n",
       "    <tr>\n",
       "      <th>4460</th>\n",
       "      <td>Demonstrable extensive knowledge and experience in formulating complex problems and developing and testing of efficient algorithms to tackle NP-hard problems with complex problem space. Incumbent must have experience in integrating METOC statistical models, including grids of observations and environmental model outputs, into algorithms; in particular focusing on the outputting course of action guidance for human decision makers.</td>\n",
       "      <td>NaN</td>\n",
       "      <td>NaN</td>\n",
       "    </tr>\n",
       "    <tr>\n",
       "      <th>4567</th>\n",
       "      <td>You will also design novel approaches for forecasting disease and pest pressures to enable data-driven decision making for trait development and breeding programs using diverse modeling and predictive analytic capabilities. You will work in close partnerships with experts in R&amp;D, breeding and pathology, and external partners to deliver insights and guidance on resistance risk analysis for insecticidal traits.</td>\n",
       "      <td>NaN</td>\n",
       "      <td>NaN</td>\n",
       "    </tr>\n",
       "  </tbody>\n",
       "</table>\n",
       "</div>"
      ],
      "text/plain": [
       "                                                                                                                                                                                                                                                                                                                                                                                                                                                                                                                                                                                                                                                                                                                                                                                                                                                                                                                                                                                                                                                                                                                                                                                                                                                                                                                                                                                                                                                                                                                                                                                                                                                                                              description  \\\n",
       "id                                                                                                                                                                                                                                                                                                                                                                                                                                                                                                                                                                                                                                                                                                                                                                                                                                                                                                                                                                                                                                                                                                                                                                                                                                                                                                                                                                                                                                                                                                                                                                                                                                                                                                          \n",
       "9     Designs, develops, documents, tests and debugs application software. Conducts analysis and collaborates with subject matter experts in the planning, design, development, and utilization of electronic data processing systems for information storage, processing, presentation, manipulation, display, or reporting.  Act as Scrum-of-Scrum Master for 2-3 teams to track cross-team dependencies and resolve barriers  Facilitate Defect Triage meetings and manage the Issue Analysis process  Conduct key formal peer reviews, collect key metrics to facilitate a learning organization  Ensure Definition-of-Ready and Definition-of-Done criteria being met  Facilitate common software requirements analysis across multiple projects  Assist Chief Software Engineer and Technical Program Managers with overall continuous technical process improvements                                                                                                                                                                                                                                                                                                                                                                                                                                                                                                                                                                                                                                                                                                                                                                                                                                 \n",
       "70    Work with the laboratory staff, GxP Systems team and project management on study start up activities by providing user requirements for building the test methods in LIMS and development of data transfer tools. Develops specifications for standard edit checks of data and supports performance of acceptance testing . Work with Data Management, GxP systems and Project Management teams to facilitate preparation of data transfer agreements, maintain project timelines, drive project completion, escalate issues as appropriate and maintain study data transfer deadlines.                                                                                                                                                                                                                                                                                                                                                                                                                                                                                                                                                                                                                                                                                                                                                                                                                                                                                                                                                                                                                                                                                                               \n",
       "193   Engage in customer and/or prospect management activities. Drives proactive sales conversations through outside interactions at non-PNC locations with a defined sales process including, identifying and independently acting upon sales opportunities to build a strong pipeline of appointments to meet assigned sales goals. Leverages ecosystem partnerships as well as community centers of influence to acquire, expand and retain relationships.                                                                                                                                                                                                                                                                                                                                                                                                                                                                                                                                                                                                                                                                                                                                                                                                                                                                                                                                                                                                                                                                                                                                                                                                                                               \n",
       "603   Facilitate Defect Triage meetings and manage the Issue Analysis process  Conduct key formal peer reviews, collect key metrics to facilitate a learning organization  Ensure Definition-of-Ready and Definition-of-Done criteria being met  Facilitate common software requirements analysis across multiple projects  Assist Chief Software Engineer and Technical Program Managers with overall continuous technical process improvements                                                                                                                                                                                                                                                                                                                                                                                                                                                                                                                                                                                                                                                                                                                                                                                                                                                                                                                                                                                                                                                                                                                                                                                                                                                            \n",
       "662   Actively develops and maintains job knowledge as a subject matter expert via review of the medical literature, attendance at professional meetings and/or other educational venues. Applies significant clinical experience and subject matter expertise towards evaluation and judgment of complex evidence as it relates to clinical decision support needs. Actively develops and maintains clinical expertise with the express purpose of translating this expertise into improving or creating drug content. Continually develops and refines writing and database skills                                                                                                                                                                                                                                                                                                                                                                                                                                                                                                                                                                                                                                                                                                                                                                                                                                                                                                                                                                                                                                                                                                                        \n",
       "1837  Must understand DQs business practices and the applications/systems that support them Prepare documentation using tools such as Visio, Word and Excel Other duties as assigned Mentor, Create Standards and Implement Process Improvements Mentor less experienced members of the Software Quality Assurance team Suggest, define, and implement new process and testing standards for the team Act as a resource to business stakeholders in their test plan and case development                                                                                                                                                                                                                                                                                                                                                                                                                                                                                                                                                                                                                                                                                                                                                                                                                                                                                                                                                                                                                                                                                                                                                                                                                    \n",
       "3065  The Program Agile Coach is responsible for mentoring team agile coaches, advising managers and developing/enhancing agile maturity levels of teams. Program Agile Coach is also responsible for training agile teams and leaders on agile principles & processes. The Program Agile Coach will be Subject Matter Expert (SME) on agile and scaled agile development methods and processes as well as an experienced IT leader.                                                                                                                                                                                                                                                                                                                                                                                                                                                                                                                                                                                                                                                                                                                                                                                                                                                                                                                                                                                                                                                                                                                                                                                                                                                                        \n",
       "3428  Leading DevSecOps-oriented activities in support of agile-based Continuous Development / Continuous Integration (CI/CD). This includes maintaining short and frequent development cycles, integrating security measures with minimal disruption to operations, employing technologies like containers and microservices, fostering close collaboration between teams, and using a framework that promotes automation                                                                                                                                                                                                                                                                                                                                                                                                                                                                                                                                                                                                                                                                                                                                                                                                                                                                                                                                                                                                                                                                                                                                                                                                                                                                                  \n",
       "3911  Work with technology and business stakeholders across different business lines or functions to understand their front to back business processes & data architectures, identify inefficiencies and opportunities for automation, apply process engineering & automation methodologies to achieve Business Transformation objectives, Lead the evaluation, design, implementation, and management of innovative emerging digital technologies like Process Mining, Task Mining, Business Process Management & Optimization, Robotic Process Automation, Perform business process analysis using process mining tools to create process maps, identify process variants & bottlenecks, and come up with meaningful insights about process, Create data models, customer-specific dashboards and analysis to enable data-driven process impact assessment and recommendations for process optimization through use of enterprise modeling capabilities including but not limited to Process Mining, Leverage strong technical focus and demonstrable experience of architecting technology solutions along with deep business knowledge to realize tangible business benefits through adopting the data strategy and architecture principles, Lead Value Stream Mapping, Business Process Improvement & value creation workshops with stakeholders to understand current state business processes, business needs & challenges and translate them into process mining and transformation plans, Create metrics & KPIs to measure and monitor current process performance as well as ongoing improvements, Build business cases and ROI calculations, leveraging industry benchmarks and best practices   \n",
       "4140  Candidates are to create and maintain Web applications, deploy application builds to non-production and production environments, interact with business and dev lead for clarifications, design review, interact with stakeholders to identify integration points and advance a code development strategy, follow the coding standard, best practices and adhere to the release process, write unit tests for the feature being developed, participate in code review process, provide regular status updates, support the applications during official support hours.                                                                                                                                                                                                                                                                                                                                                                                                                                                                                                                                                                                                                                                                                                                                                                                                                                                                                                                                                                                                                                                                                                                                \n",
       "4403  Appropriately assess risk when business decisions are made, demonstrating particular consideration for the firm's reputation and safeguarding our company, its clients and assets, by driving compliance with applicable laws, rules and regulations, adhering to Policy, applying sound ethical judgment regarding personal behavior, conduct and business practices, and escalating, managing and reporting control issues with transparency.                                                                                                                                                                                                                                                                                                                                                                                                                                                                                                                                                                                                                                                                                                                                                                                                                                                                                                                                                                                                                                                                                                                                                                                                                                                       \n",
       "4437  Key Responsibilities: Work with Client, Accenture, and Teaming Partner team members and executives on and across the project team |Plan and execute all required process steps as defined in Accenture/Client methodologies | Ability to work with business to gather and document requirements using agile methods | Analyze, design, test plan/execute, and coordinate defect resolution for analytic data models to align with business requirements                                                                                                                                                                                                                                                                                                                                                                                                                                                                                                                                                                                                                                                                                                                                                                                                                                                                                                                                                                                                                                                                                                                                                                                                                                               \n",
       "4460  Demonstrable extensive knowledge and experience in formulating complex problems and developing and testing of efficient algorithms to tackle NP-hard problems with complex problem space. Incumbent must have experience in integrating METOC statistical models, including grids of observations and environmental model outputs, into algorithms; in particular focusing on the outputting course of action guidance for human decision makers.                                                                                                                                                                                                                                                                                                                                                                                                                                                                                                                                                                                                                                                                                                                                                                                                                                                                                                                                                                                                                                                                                                                                                                                                                                                     \n",
       "4567  You will also design novel approaches for forecasting disease and pest pressures to enable data-driven decision making for trait development and breeding programs using diverse modeling and predictive analytic capabilities. You will work in close partnerships with experts in R&D, breeding and pathology, and external partners to deliver insights and guidance on resistance risk analysis for insecticidal traits.                                                                                                                                                                                                                                                                                                                                                                                                                                                                                                                                                                                                                                                                                                                                                                                                                                                                                                                                                                                                                                                                                                                                                                                                                                                                          \n",
       "\n",
       "      jobflag       jobflag_full  \n",
       "id                                \n",
       "9     3.0      Software Engineer  \n",
       "70    1.0      Data Scientist     \n",
       "193   4.0      Consultant         \n",
       "603   3.0      Software Engineer  \n",
       "662   4.0      Consultant         \n",
       "1837  3.0      Software Engineer  \n",
       "3065 NaN       NaN                \n",
       "3428 NaN       NaN                \n",
       "3911 NaN       NaN                \n",
       "4140 NaN       NaN                \n",
       "4403 NaN       NaN                \n",
       "4437 NaN       NaN                \n",
       "4460 NaN       NaN                \n",
       "4567 NaN       NaN                "
      ]
     },
     "execution_count": 18,
     "metadata": {},
     "output_type": "execute_result"
    }
   ],
   "source": [
    "all_data[desc_len > 400]"
   ]
  },
  {
   "cell_type": "code",
   "execution_count": 20,
   "metadata": {},
   "outputs": [
    {
     "data": {
      "text/html": [
       "<div>\n",
       "<style scoped>\n",
       "    .dataframe tbody tr th:only-of-type {\n",
       "        vertical-align: middle;\n",
       "    }\n",
       "\n",
       "    .dataframe tbody tr th {\n",
       "        vertical-align: top;\n",
       "    }\n",
       "\n",
       "    .dataframe thead th {\n",
       "        text-align: right;\n",
       "    }\n",
       "</style>\n",
       "<table border=\"1\" class=\"dataframe\">\n",
       "  <thead>\n",
       "    <tr style=\"text-align: right;\">\n",
       "      <th></th>\n",
       "      <th>description</th>\n",
       "      <th>jobflag</th>\n",
       "      <th>jobflag_full</th>\n",
       "    </tr>\n",
       "    <tr>\n",
       "      <th>id</th>\n",
       "      <th></th>\n",
       "      <th></th>\n",
       "      <th></th>\n",
       "    </tr>\n",
       "  </thead>\n",
       "  <tbody>\n",
       "    <tr>\n",
       "      <th>546</th>\n",
       "      <td>Extend Agency Spotter API for</td>\n",
       "      <td>3.0</td>\n",
       "      <td>Software Engineer</td>\n",
       "    </tr>\n",
       "    <tr>\n",
       "      <th>1729</th>\n",
       "      <td>Works under close supervision</td>\n",
       "      <td>3.0</td>\n",
       "      <td>Software Engineer</td>\n",
       "    </tr>\n",
       "    <tr>\n",
       "      <th>1835</th>\n",
       "      <td>Optical Simulation and Design</td>\n",
       "      <td>3.0</td>\n",
       "      <td>Software Engineer</td>\n",
       "    </tr>\n",
       "    <tr>\n",
       "      <th>2172</th>\n",
       "      <td>marketing technology roadmaps</td>\n",
       "      <td>4.0</td>\n",
       "      <td>Consultant</td>\n",
       "    </tr>\n",
       "    <tr>\n",
       "      <th>2392</th>\n",
       "      <td>Other duties may be assigned.</td>\n",
       "      <td>3.0</td>\n",
       "      <td>Software Engineer</td>\n",
       "    </tr>\n",
       "    <tr>\n",
       "      <th>2555</th>\n",
       "      <td>Consult around our product</td>\n",
       "      <td>4.0</td>\n",
       "      <td>Consultant</td>\n",
       "    </tr>\n",
       "  </tbody>\n",
       "</table>\n",
       "</div>"
      ],
      "text/plain": [
       "                        description  jobflag       jobflag_full\n",
       "id                                                             \n",
       "546   Extend Agency Spotter API for  3.0      Software Engineer\n",
       "1729  Works under close supervision  3.0      Software Engineer\n",
       "1835  Optical Simulation and Design  3.0      Software Engineer\n",
       "2172  marketing technology roadmaps  4.0      Consultant       \n",
       "2392  Other duties may be assigned.  3.0      Software Engineer\n",
       "2555  Consult around our product     4.0      Consultant       "
      ]
     },
     "execution_count": 20,
     "metadata": {},
     "output_type": "execute_result"
    }
   ],
   "source": [
    "all_data[desc_len < 30]"
   ]
  },
  {
   "cell_type": "code",
   "execution_count": 21,
   "metadata": {},
   "outputs": [],
   "source": [
    "jobflag = all_data[\"jobflag\"]"
   ]
  },
  {
   "cell_type": "code",
   "execution_count": 30,
   "metadata": {},
   "outputs": [
    {
     "data": {
      "image/png": "[encoded data removed]",
      "text/plain": [
       "<Figure size 432x288 with 1 Axes>"
      ]
     },
     "metadata": {
      "needs_background": "light"
     },
     "output_type": "display_data"
    },
    {
     "name": "stdout",
     "output_type": "stream",
     "text": [
      "{1: 'Data Scientist', 2: 'ML Engineer', 3: 'Software Engineer', 4: 'Consultant'}\n"
     ]
    }
   ],
   "source": [
    "jobflag.hist()\n",
    "plt.show()\n",
    "print(jobflag_dic)"
   ]
  },
  {
   "cell_type": "code",
   "execution_count": 32,
   "metadata": {},
   "outputs": [
    {
     "ename": "ModuleNotFoundError",
     "evalue": "No module named 'tensorflow'",
     "output_type": "error",
     "traceback": [
      "\u001b[1;31m---------------------------------------------------------------------------\u001b[0m",
      "\u001b[1;31mModuleNotFoundError\u001b[0m                       Traceback (most recent call last)",
      "\u001b[1;32m<ipython-input-32-bc951b486356>\u001b[0m in \u001b[0;36m<module>\u001b[1;34m\u001b[0m\n\u001b[0;32m      1\u001b[0m \u001b[1;31m# import tensorflow_datasets as tfds\u001b[0m\u001b[1;33m\u001b[0m\u001b[1;33m\u001b[0m\u001b[1;33m\u001b[0m\u001b[0m\n\u001b[1;32m----> 2\u001b[1;33m \u001b[1;32mimport\u001b[0m \u001b[0mtensorflow\u001b[0m \u001b[1;32mas\u001b[0m \u001b[0mtf\u001b[0m\u001b[1;33m\u001b[0m\u001b[1;33m\u001b[0m\u001b[0m\n\u001b[0m",
      "\u001b[1;31mModuleNotFoundError\u001b[0m: No module named 'tensorflow'"
     ]
    }
   ],
   "source": [
    "# import tensorflow_datasets as tfds\n",
    "import tensorflow as tf"
   ]
  },
  {
   "cell_type": "code",
   "execution_count": null,
   "metadata": {},
   "outputs": [],
   "source": []
  }
 ],
 "metadata": {
  "kernelspec": {
   "display_name": "Python 3",
   "language": "python",
   "name": "python3"
  },
  "language_info": {
   "codemirror_mode": {
    "name": "ipython",
    "version": 3
   },
   "file_extension": ".py",
   "mimetype": "text/x-python",
   "name": "python",
   "nbconvert_exporter": "python",
   "pygments_lexer": "ipython3",
   "version": "3.7.6"
  }
 },
 "nbformat": 4,
 "nbformat_minor": 4
}
